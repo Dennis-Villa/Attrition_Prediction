{
  "nbformat": 4,
  "nbformat_minor": 0,
  "metadata": {
    "colab": {
      "provenance": []
    },
    "kernelspec": {
      "name": "python3",
      "display_name": "Python 3"
    },
    "language_info": {
      "name": "python"
    }
  },
  "cells": [
    {
      "cell_type": "markdown",
      "source": [
        "## Data Read"
      ],
      "metadata": {
        "id": "pshthwdj0sT_"
      }
    },
    {
      "cell_type": "code",
      "source": [
        "import pandas as pd\n",
        "import numpy as np\n",
        "\n",
        "# Read the data\n",
        "in_time_data = '/content/drive/MyDrive/workplace-engineering-take-home-test-main/src/in_time.csv'\n",
        "out_time_data = '/content/drive/MyDrive/workplace-engineering-take-home-test-main/src/out_time.csv'\n",
        "\n",
        "\n",
        "# Transform data into DataFrame\n",
        "in_time = pd.read_csv(in_time_data, index_col=0)\n",
        "out_time = pd.read_csv(out_time_data, index_col=0)\n",
        "\n",
        "# Add the index name\n",
        "in_time.index.name = 'EmployeeID'\n",
        "out_time.index.name = 'EmployeeID'\n",
        "\n",
        "# Add a higer index name for columns\n",
        "time_cols = in_time.columns\n",
        "new_in_cols = []\n",
        "new_out_cols = []\n",
        "\n",
        "for col in time_cols:\n",
        "  new_in_cols.append((\"InTime\", col))\n",
        "  new_out_cols.append((\"OutTime\", col))\n",
        "\n",
        "in_time.columns = pd.MultiIndex.from_tuples(new_in_cols)\n",
        "out_time.columns = pd.MultiIndex.from_tuples(new_out_cols)\n",
        "\n",
        "time_logs = in_time.merge(out_time, on='EmployeeID')"
      ],
      "metadata": {
        "id": "VNv9JFiQ0KlO"
      },
      "execution_count": null,
      "outputs": []
    },
    {
      "cell_type": "code",
      "source": [
        "def weekHours (days_row):\n",
        "  week_hours = pd.Series()\n",
        "\n",
        "  index = 1\n",
        "  for x in range(0, days_row.size, 5):\n",
        "    curr_week = np.sum(days_row[x:x+5])\n",
        "\n",
        "    week_hours[f\"Week_{index}\"] = curr_week\n",
        "\n",
        "    index += 1\n",
        "\n",
        "  return week_hours"
      ],
      "metadata": {
        "id": "cRvUa_r_xJHj"
      },
      "execution_count": null,
      "outputs": []
    },
    {
      "cell_type": "code",
      "source": [
        "def workLogsData(df_time_logs):\n",
        "  working_days_out_df = pd.DataFrame(df_time_logs.InTime.isna().sum(axis=1), columns=['WorkingDaysOut'])\n",
        "\n",
        "  in_time_datetimes = df_time_logs.InTime.apply(pd.to_datetime)\n",
        "  out_time_datetimes = df_time_logs.OutTime.apply(pd.to_datetime)\n",
        "\n",
        "  time_worked_datedif = out_time_datetimes - in_time_datetimes\n",
        "\n",
        "  time_worked_hours_df = time_worked_datedif.applymap(lambda x: x.seconds / 3600)\n",
        "\n",
        "  prom_day_hours_df = pd.DataFrame(time_worked_hours_df.apply(np.mean, axis=1), columns=['PromDayHours'])\n",
        "\n",
        "  prom_week_hours_df = pd.DataFrame(time_worked_hours_df.apply(weekHours, axis=1), columns=['PromWeekHours'])\n",
        "\n",
        "  return prom_day_hours_df.merge(working_days_out_df, on='EmployeeID')"
      ],
      "metadata": {
        "id": "uNTnxdw5rdkL"
      },
      "execution_count": null,
      "outputs": []
    }
  ]
}